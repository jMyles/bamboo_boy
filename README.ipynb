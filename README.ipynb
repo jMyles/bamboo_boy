{
 "metadata": {
  "name": "",
  "signature": "sha256:c6064618dfcbfc5606171e5c4ac0cec34029aaba669ce6e2a77f01f729c22a34"
 },
 "nbformat": 3,
 "nbformat_minor": 0,
 "worksheets": [
  {
   "cells": [
    {
     "cell_type": "markdown",
     "metadata": {},
     "source": [
      "Bamboo Boy is a way to share setup and teardown logic between tests, deployments, and development environments.  It can reduce boilerplate logic in test methods, eliminate the need for fixtures or traditional scaffolding, and promote separation of logic between test state and assertions.\n",
      "\n",
      "The \"Boy\" is a reference to utilizing factory_boy and extending its basic philosophy.\n",
      "\n",
      "The \"Bamboo\" is the basis of the implementation metaphor:\n",
      "\n",
      "* A \"Clump\" is a collection of objects and setup / teardown logic.\n",
      "* A \"canopy\" is built by running the \"build_canopy\" method of a Clump.\n",
      "* The canopy is used to access the objects.  A function is said to be running \"with a canopy\" if it uses the @with_canopy decorator.\n",
      "\n",
      "## Quickstart\n",
      "\n",
      "### Maybe you already have the following Thing and its Factory."
     ]
    },
    {
     "cell_type": "code",
     "collapsed": false,
     "input": [
      "import factory\n",
      "\n",
      "\n",
      "class Thing(object):\n",
      "    def do_your_thing(self):\n",
      "        return True\n",
      "\n",
      "    \n",
      "class ThingFactory(factory.Factory):\n",
      "    class Meta:\n",
      "        model = Thing"
     ],
     "language": "python",
     "metadata": {},
     "outputs": [],
     "prompt_number": 34
    },
    {
     "cell_type": "markdown",
     "metadata": {},
     "source": [
      "### Now, you can create a \"Clump\" of reusable logic."
     ]
    },
    {
     "cell_type": "code",
     "collapsed": false,
     "input": [
      "from bamboo_boy.materials import Clump\n",
      "\n",
      "\n",
      "class ThingExists(Clump):\n",
      "    '''\n",
      "    Ensures that three Thing objects exist.\n",
      "    '''\n",
      "    def build_canopy(self):\n",
      "        self.include_factory(ThingFactory, 3)  # We can also include *args and **kwargs here; they'll be passed on to the factory"
     ],
     "language": "python",
     "metadata": {},
     "outputs": [],
     "prompt_number": 35
    },
    {
     "cell_type": "markdown",
     "metadata": {},
     "source": [
      "### Then, in a test:"
     ]
    },
    {
     "cell_type": "code",
     "collapsed": false,
     "input": [
      "import unittest\n",
      "from bamboo_boy.utils import with_canopy\n",
      "\n",
      "\n",
      "@with_canopy(ThingExists)\n",
      "class TestThings(unittest.TestCase):\n",
      "\n",
      "    def test_that_thing_does_its_thing(self):\n",
      "        lists_of_things = self.canopy.objects[ThingFactory]\n",
      "        first_list_of_things = lists_of_things[0]\n",
      "        first_thing = first_list_of_things[0]\n",
      "        self.assertTrue(first_thing.do_your_thing())"
     ],
     "language": "python",
     "metadata": {},
     "outputs": [],
     "prompt_number": 36
    },
    {
     "cell_type": "markdown",
     "metadata": {},
     "source": [
      "## Slightly more advanced\n",
      "\n",
      "### Passing arguments thourgh with_canopy"
     ]
    },
    {
     "cell_type": "markdown",
     "metadata": {},
     "source": [
      "Suppose you need to be able to set the number of factory objects to create not in the definition of the build_canopy() method on the Clump, but in the with_canopy decorator.\n"
     ]
    },
    {
     "cell_type": "code",
     "collapsed": false,
     "input": [
      "class ExcitingThingsExist(Clump):\n",
      "    '''\n",
      "    Let the user specify how many things to create.\n",
      "    '''\n",
      "    def __init__(self, number_of_things):\n",
      "        self.number_of_things = number_of_things\n",
      "        super(ExcitingThingsExist, self).__init__()\n",
      "    \n",
      "    def build_canopy(self):\n",
      "        self.include_factory(ThingFactory, self.number_of_things)"
     ],
     "language": "python",
     "metadata": {},
     "outputs": [],
     "prompt_number": 37
    },
    {
     "cell_type": "code",
     "collapsed": false,
     "input": [
      "@with_canopy(ExcitingThingsExist, 4)\n",
      "class TestThings(unittest.TestCase):\n",
      "    \n",
      "    def test_that_there_are_four_things(self):\n",
      "        number_of_things = self.canopy.objects[ThingFactory][0]\n",
      "        self.assertEqual(len(number_of_things), 4)"
     ],
     "language": "python",
     "metadata": {},
     "outputs": [],
     "prompt_number": 38
    }
   ],
   "metadata": {}
  }
 ]
}